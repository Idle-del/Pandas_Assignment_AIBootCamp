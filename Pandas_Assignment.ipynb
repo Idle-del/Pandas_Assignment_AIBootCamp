{
 "cells": [
  {
   "cell_type": "code",
   "execution_count": 3,
   "id": "4496c8b4",
   "metadata": {},
   "outputs": [
    {
     "data": {
      "text/html": [
       "<div>\n",
       "<style scoped>\n",
       "    .dataframe tbody tr th:only-of-type {\n",
       "        vertical-align: middle;\n",
       "    }\n",
       "\n",
       "    .dataframe tbody tr th {\n",
       "        vertical-align: top;\n",
       "    }\n",
       "\n",
       "    .dataframe thead th {\n",
       "        text-align: right;\n",
       "    }\n",
       "</style>\n",
       "<table border=\"1\" class=\"dataframe\">\n",
       "  <thead>\n",
       "    <tr style=\"text-align: right;\">\n",
       "      <th></th>\n",
       "      <th>Pregnancies</th>\n",
       "      <th>Glucose</th>\n",
       "      <th>BloodPressure</th>\n",
       "      <th>SkinThickness</th>\n",
       "      <th>Insulin</th>\n",
       "      <th>BMI</th>\n",
       "      <th>DiabetesPedigreeFunction</th>\n",
       "      <th>Age</th>\n",
       "      <th>Outcome</th>\n",
       "    </tr>\n",
       "  </thead>\n",
       "  <tbody>\n",
       "    <tr>\n",
       "      <th>0</th>\n",
       "      <td>6</td>\n",
       "      <td>148</td>\n",
       "      <td>72</td>\n",
       "      <td>35</td>\n",
       "      <td>0</td>\n",
       "      <td>33.6</td>\n",
       "      <td>0.627</td>\n",
       "      <td>50</td>\n",
       "      <td>1</td>\n",
       "    </tr>\n",
       "    <tr>\n",
       "      <th>1</th>\n",
       "      <td>1</td>\n",
       "      <td>85</td>\n",
       "      <td>66</td>\n",
       "      <td>29</td>\n",
       "      <td>0</td>\n",
       "      <td>26.6</td>\n",
       "      <td>0.351</td>\n",
       "      <td>31</td>\n",
       "      <td>0</td>\n",
       "    </tr>\n",
       "    <tr>\n",
       "      <th>2</th>\n",
       "      <td>8</td>\n",
       "      <td>183</td>\n",
       "      <td>64</td>\n",
       "      <td>0</td>\n",
       "      <td>0</td>\n",
       "      <td>23.3</td>\n",
       "      <td>0.672</td>\n",
       "      <td>32</td>\n",
       "      <td>1</td>\n",
       "    </tr>\n",
       "    <tr>\n",
       "      <th>3</th>\n",
       "      <td>1</td>\n",
       "      <td>89</td>\n",
       "      <td>66</td>\n",
       "      <td>23</td>\n",
       "      <td>94</td>\n",
       "      <td>28.1</td>\n",
       "      <td>0.167</td>\n",
       "      <td>21</td>\n",
       "      <td>0</td>\n",
       "    </tr>\n",
       "    <tr>\n",
       "      <th>4</th>\n",
       "      <td>0</td>\n",
       "      <td>137</td>\n",
       "      <td>40</td>\n",
       "      <td>35</td>\n",
       "      <td>168</td>\n",
       "      <td>43.1</td>\n",
       "      <td>2.288</td>\n",
       "      <td>33</td>\n",
       "      <td>1</td>\n",
       "    </tr>\n",
       "    <tr>\n",
       "      <th>...</th>\n",
       "      <td>...</td>\n",
       "      <td>...</td>\n",
       "      <td>...</td>\n",
       "      <td>...</td>\n",
       "      <td>...</td>\n",
       "      <td>...</td>\n",
       "      <td>...</td>\n",
       "      <td>...</td>\n",
       "      <td>...</td>\n",
       "    </tr>\n",
       "    <tr>\n",
       "      <th>763</th>\n",
       "      <td>10</td>\n",
       "      <td>101</td>\n",
       "      <td>76</td>\n",
       "      <td>48</td>\n",
       "      <td>180</td>\n",
       "      <td>32.9</td>\n",
       "      <td>0.171</td>\n",
       "      <td>63</td>\n",
       "      <td>0</td>\n",
       "    </tr>\n",
       "    <tr>\n",
       "      <th>764</th>\n",
       "      <td>2</td>\n",
       "      <td>122</td>\n",
       "      <td>70</td>\n",
       "      <td>27</td>\n",
       "      <td>0</td>\n",
       "      <td>36.8</td>\n",
       "      <td>0.340</td>\n",
       "      <td>27</td>\n",
       "      <td>0</td>\n",
       "    </tr>\n",
       "    <tr>\n",
       "      <th>765</th>\n",
       "      <td>5</td>\n",
       "      <td>121</td>\n",
       "      <td>72</td>\n",
       "      <td>23</td>\n",
       "      <td>112</td>\n",
       "      <td>26.2</td>\n",
       "      <td>0.245</td>\n",
       "      <td>30</td>\n",
       "      <td>0</td>\n",
       "    </tr>\n",
       "    <tr>\n",
       "      <th>766</th>\n",
       "      <td>1</td>\n",
       "      <td>126</td>\n",
       "      <td>60</td>\n",
       "      <td>0</td>\n",
       "      <td>0</td>\n",
       "      <td>30.1</td>\n",
       "      <td>0.349</td>\n",
       "      <td>47</td>\n",
       "      <td>1</td>\n",
       "    </tr>\n",
       "    <tr>\n",
       "      <th>767</th>\n",
       "      <td>1</td>\n",
       "      <td>93</td>\n",
       "      <td>70</td>\n",
       "      <td>31</td>\n",
       "      <td>0</td>\n",
       "      <td>30.4</td>\n",
       "      <td>0.315</td>\n",
       "      <td>23</td>\n",
       "      <td>0</td>\n",
       "    </tr>\n",
       "  </tbody>\n",
       "</table>\n",
       "<p>768 rows × 9 columns</p>\n",
       "</div>"
      ],
      "text/plain": [
       "     Pregnancies  Glucose  BloodPressure  SkinThickness  Insulin   BMI  \\\n",
       "0              6      148             72             35        0  33.6   \n",
       "1              1       85             66             29        0  26.6   \n",
       "2              8      183             64              0        0  23.3   \n",
       "3              1       89             66             23       94  28.1   \n",
       "4              0      137             40             35      168  43.1   \n",
       "..           ...      ...            ...            ...      ...   ...   \n",
       "763           10      101             76             48      180  32.9   \n",
       "764            2      122             70             27        0  36.8   \n",
       "765            5      121             72             23      112  26.2   \n",
       "766            1      126             60              0        0  30.1   \n",
       "767            1       93             70             31        0  30.4   \n",
       "\n",
       "     DiabetesPedigreeFunction  Age  Outcome  \n",
       "0                       0.627   50        1  \n",
       "1                       0.351   31        0  \n",
       "2                       0.672   32        1  \n",
       "3                       0.167   21        0  \n",
       "4                       2.288   33        1  \n",
       "..                        ...  ...      ...  \n",
       "763                     0.171   63        0  \n",
       "764                     0.340   27        0  \n",
       "765                     0.245   30        0  \n",
       "766                     0.349   47        1  \n",
       "767                     0.315   23        0  \n",
       "\n",
       "[768 rows x 9 columns]"
      ]
     },
     "execution_count": 3,
     "metadata": {},
     "output_type": "execute_result"
    }
   ],
   "source": [
    "import pandas as pd\n",
    "\n",
    "diabetes = pd.read_csv('diabetes.csv')\n",
    "diabetes"
   ]
  },
  {
   "cell_type": "code",
   "execution_count": 4,
   "id": "b3cf6da3",
   "metadata": {},
   "outputs": [
    {
     "name": "stdout",
     "output_type": "stream",
     "text": [
      "<class 'pandas.core.frame.DataFrame'>\n",
      "RangeIndex: 768 entries, 0 to 767\n",
      "Data columns (total 9 columns):\n",
      " #   Column                    Non-Null Count  Dtype  \n",
      "---  ------                    --------------  -----  \n",
      " 0   Pregnancies               768 non-null    int64  \n",
      " 1   Glucose                   768 non-null    int64  \n",
      " 2   BloodPressure             768 non-null    int64  \n",
      " 3   SkinThickness             768 non-null    int64  \n",
      " 4   Insulin                   768 non-null    int64  \n",
      " 5   BMI                       768 non-null    float64\n",
      " 6   DiabetesPedigreeFunction  768 non-null    float64\n",
      " 7   Age                       768 non-null    int64  \n",
      " 8   Outcome                   768 non-null    int64  \n",
      "dtypes: float64(2), int64(7)\n",
      "memory usage: 54.1 KB\n",
      "None\n"
     ]
    }
   ],
   "source": [
    "print(diabetes.info())"
   ]
  },
  {
   "cell_type": "code",
   "execution_count": 5,
   "id": "6dc18996",
   "metadata": {},
   "outputs": [
    {
     "name": "stdout",
     "output_type": "stream",
     "text": [
      "       Pregnancies     Glucose  BloodPressure  SkinThickness     Insulin  \\\n",
      "count   768.000000  768.000000     768.000000     768.000000  768.000000   \n",
      "mean      3.845052  120.894531      69.105469      20.536458   79.799479   \n",
      "std       3.369578   31.972618      19.355807      15.952218  115.244002   \n",
      "min       0.000000    0.000000       0.000000       0.000000    0.000000   \n",
      "25%       1.000000   99.000000      62.000000       0.000000    0.000000   \n",
      "50%       3.000000  117.000000      72.000000      23.000000   30.500000   \n",
      "75%       6.000000  140.250000      80.000000      32.000000  127.250000   \n",
      "max      17.000000  199.000000     122.000000      99.000000  846.000000   \n",
      "\n",
      "              BMI  DiabetesPedigreeFunction         Age     Outcome  \n",
      "count  768.000000                768.000000  768.000000  768.000000  \n",
      "mean    31.992578                  0.471876   33.240885    0.348958  \n",
      "std      7.884160                  0.331329   11.760232    0.476951  \n",
      "min      0.000000                  0.078000   21.000000    0.000000  \n",
      "25%     27.300000                  0.243750   24.000000    0.000000  \n",
      "50%     32.000000                  0.372500   29.000000    0.000000  \n",
      "75%     36.600000                  0.626250   41.000000    1.000000  \n",
      "max     67.100000                  2.420000   81.000000    1.000000  \n"
     ]
    }
   ],
   "source": [
    "print(diabetes.describe())"
   ]
  },
  {
   "cell_type": "code",
   "execution_count": 6,
   "id": "df8bea7f",
   "metadata": {},
   "outputs": [
    {
     "name": "stdout",
     "output_type": "stream",
     "text": [
      "Pregnancies                 0\n",
      "Glucose                     0\n",
      "BloodPressure               0\n",
      "SkinThickness               0\n",
      "Insulin                     0\n",
      "BMI                         0\n",
      "DiabetesPedigreeFunction    0\n",
      "Age                         0\n",
      "Outcome                     0\n",
      "dtype: int64\n"
     ]
    }
   ],
   "source": [
    "print(diabetes.isnull().sum())"
   ]
  },
  {
   "cell_type": "code",
   "execution_count": 11,
   "id": "b0cc73bd",
   "metadata": {},
   "outputs": [
    {
     "name": "stdout",
     "output_type": "stream",
     "text": [
      "0      148\n",
      "1       85\n",
      "2      183\n",
      "3       89\n",
      "4      137\n",
      "      ... \n",
      "763    101\n",
      "764    122\n",
      "765    121\n",
      "766    126\n",
      "767     93\n",
      "Name: Glucose, Length: 768, dtype: int64\n",
      "<class 'pandas.core.series.Series'>\n",
      "int64\n",
      "First 5 rows of Glucose column:\n",
      "0    148\n",
      "1     85\n",
      "2    183\n",
      "3     89\n",
      "4    137\n",
      "Name: Glucose, dtype: int64\n",
      "First 5 rows of Glucose column in list:\n",
      "[148, 85, 183, 89, 137]\n"
     ]
    }
   ],
   "source": [
    "# Single Column Operations\n",
    "Glucose = diabetes['Glucose']\n",
    "print(Glucose)\n",
    "print(type(Glucose))\n",
    "print(Glucose.dtype)\n",
    "print(f'First 5 rows of Glucose column:\\n{Glucose.head()}')\n",
    "print(f'First 5 rows of Glucose column in list:\\n{Glucose.head().tolist()}')"
   ]
  },
  {
   "cell_type": "code",
   "execution_count": 3,
   "id": "958ecc78",
   "metadata": {},
   "outputs": [
    {
     "name": "stdout",
     "output_type": "stream",
     "text": [
      "   Pregnancies  Glucose  BloodPressure\n",
      "0            6      148             72\n",
      "1            1       85             66\n",
      "2            8      183             64\n",
      "3            1       89             66\n",
      "4            0      137             40\n"
     ]
    }
   ],
   "source": [
    "import pandas as pd\n",
    "diabetes = pd.read_csv('diabetes.csv')\n",
    "diabetes_info = diabetes[['Pregnancies', 'Glucose', 'BloodPressure']]\n",
    "print(diabetes_info.head())"
   ]
  },
  {
   "cell_type": "code",
   "execution_count": 12,
   "id": "2846f442",
   "metadata": {},
   "outputs": [
    {
     "name": "stdout",
     "output_type": "stream",
     "text": [
      "   Pregnancies  Glucose  BloodPressure  SkinThickness  Insulin   BMI  \\\n",
      "0            6      148             72             35        0  33.6   \n",
      "1            1       85             66             29        0  26.6   \n",
      "2            8      183             64              0        0  23.3   \n",
      "3            1       89             66             23       94  28.1   \n",
      "4            0      137             40             35      168  43.1   \n",
      "\n",
      "   DiabetesPedigreeFunction  Age  Outcome  \n",
      "0                     0.627   50        1  \n",
      "1                     0.351   31        0  \n",
      "2                     0.672   32        1  \n",
      "3                     0.167   21        0  \n",
      "4                     2.288   33        1  \n",
      "--------------------------------------------------\n",
      "   Pregnancies  Glucose  BloodPressure\n",
      "0            6      148             72\n",
      "1            1       85             66\n",
      "2            8      183             64\n",
      "3            1       89             66\n",
      "4            0      137             40\n"
     ]
    }
   ],
   "source": [
    "first_five_patient = diabetes.iloc[0:5]\n",
    "print(first_five_patient)\n",
    "print('-'*50)\n",
    "print(first_five_patient[['Pregnancies', 'Glucose', 'BloodPressure']])"
   ]
  },
  {
   "cell_type": "code",
   "execution_count": 13,
   "id": "c5e4676a",
   "metadata": {},
   "outputs": [
    {
     "name": "stdout",
     "output_type": "stream",
     "text": [
      "   Glucose  BloodPressure  SkinThickness\n",
      "0      148             72             35\n",
      "1       85             66             29\n",
      "2      183             64              0\n",
      "3       89             66             23\n",
      "4      137             40             35\n",
      "5      116             74              0\n"
     ]
    }
   ],
   "source": [
    "patient = diabetes.loc[0:5, ['Glucose', 'BloodPressure', 'SkinThickness']]\n",
    "print(patient)"
   ]
  },
  {
   "cell_type": "code",
   "execution_count": null,
   "id": "bc75aa9e",
   "metadata": {},
   "outputs": [
    {
     "name": "stdout",
     "output_type": "stream",
     "text": [
      "Missing values per column:\n",
      "Series([], dtype: int64)\n"
     ]
    }
   ],
   "source": [
    "missing_counts = diabetes.isnull().sum()\n",
    "print(\"Missing values per column:\")\n",
    "print(missing_counts[missing_counts > 0])    ## There is no null value in the dataset"
   ]
  },
  {
   "cell_type": "code",
   "execution_count": 27,
   "id": "3a6545ad",
   "metadata": {},
   "outputs": [
    {
     "data": {
      "text/plain": [
       "('surveys.csv', <http.client.HTTPMessage at 0x1fda0489490>)"
      ]
     },
     "execution_count": 27,
     "metadata": {},
     "output_type": "execute_result"
    }
   ],
   "source": [
    "import urllib.request\n",
    "\n",
    "url = 'https://monashdatafluency.github.io/python-workshop-base/modules/data/surveys.csv'\n",
    "urllib.request.urlretrieve(url, 'surveys.csv')\n"
   ]
  },
  {
   "cell_type": "code",
   "execution_count": 28,
   "id": "a31200b8",
   "metadata": {},
   "outputs": [
    {
     "data": {
      "text/html": [
       "<div>\n",
       "<style scoped>\n",
       "    .dataframe tbody tr th:only-of-type {\n",
       "        vertical-align: middle;\n",
       "    }\n",
       "\n",
       "    .dataframe tbody tr th {\n",
       "        vertical-align: top;\n",
       "    }\n",
       "\n",
       "    .dataframe thead th {\n",
       "        text-align: right;\n",
       "    }\n",
       "</style>\n",
       "<table border=\"1\" class=\"dataframe\">\n",
       "  <thead>\n",
       "    <tr style=\"text-align: right;\">\n",
       "      <th></th>\n",
       "      <th>record_id</th>\n",
       "      <th>month</th>\n",
       "      <th>day</th>\n",
       "      <th>year</th>\n",
       "      <th>site_id</th>\n",
       "      <th>species_id</th>\n",
       "      <th>sex</th>\n",
       "      <th>hindfoot_length</th>\n",
       "      <th>weight</th>\n",
       "    </tr>\n",
       "  </thead>\n",
       "  <tbody>\n",
       "    <tr>\n",
       "      <th>0</th>\n",
       "      <td>1</td>\n",
       "      <td>7</td>\n",
       "      <td>16</td>\n",
       "      <td>1977</td>\n",
       "      <td>2</td>\n",
       "      <td>NL</td>\n",
       "      <td>M</td>\n",
       "      <td>32.0</td>\n",
       "      <td>NaN</td>\n",
       "    </tr>\n",
       "    <tr>\n",
       "      <th>1</th>\n",
       "      <td>2</td>\n",
       "      <td>7</td>\n",
       "      <td>16</td>\n",
       "      <td>1977</td>\n",
       "      <td>3</td>\n",
       "      <td>NL</td>\n",
       "      <td>M</td>\n",
       "      <td>33.0</td>\n",
       "      <td>NaN</td>\n",
       "    </tr>\n",
       "    <tr>\n",
       "      <th>2</th>\n",
       "      <td>3</td>\n",
       "      <td>7</td>\n",
       "      <td>16</td>\n",
       "      <td>1977</td>\n",
       "      <td>2</td>\n",
       "      <td>DM</td>\n",
       "      <td>F</td>\n",
       "      <td>37.0</td>\n",
       "      <td>NaN</td>\n",
       "    </tr>\n",
       "    <tr>\n",
       "      <th>3</th>\n",
       "      <td>4</td>\n",
       "      <td>7</td>\n",
       "      <td>16</td>\n",
       "      <td>1977</td>\n",
       "      <td>7</td>\n",
       "      <td>DM</td>\n",
       "      <td>M</td>\n",
       "      <td>36.0</td>\n",
       "      <td>NaN</td>\n",
       "    </tr>\n",
       "    <tr>\n",
       "      <th>4</th>\n",
       "      <td>5</td>\n",
       "      <td>7</td>\n",
       "      <td>16</td>\n",
       "      <td>1977</td>\n",
       "      <td>3</td>\n",
       "      <td>DM</td>\n",
       "      <td>M</td>\n",
       "      <td>35.0</td>\n",
       "      <td>NaN</td>\n",
       "    </tr>\n",
       "    <tr>\n",
       "      <th>...</th>\n",
       "      <td>...</td>\n",
       "      <td>...</td>\n",
       "      <td>...</td>\n",
       "      <td>...</td>\n",
       "      <td>...</td>\n",
       "      <td>...</td>\n",
       "      <td>...</td>\n",
       "      <td>...</td>\n",
       "      <td>...</td>\n",
       "    </tr>\n",
       "    <tr>\n",
       "      <th>35544</th>\n",
       "      <td>35545</td>\n",
       "      <td>12</td>\n",
       "      <td>31</td>\n",
       "      <td>2002</td>\n",
       "      <td>15</td>\n",
       "      <td>AH</td>\n",
       "      <td>NaN</td>\n",
       "      <td>NaN</td>\n",
       "      <td>NaN</td>\n",
       "    </tr>\n",
       "    <tr>\n",
       "      <th>35545</th>\n",
       "      <td>35546</td>\n",
       "      <td>12</td>\n",
       "      <td>31</td>\n",
       "      <td>2002</td>\n",
       "      <td>15</td>\n",
       "      <td>AH</td>\n",
       "      <td>NaN</td>\n",
       "      <td>NaN</td>\n",
       "      <td>NaN</td>\n",
       "    </tr>\n",
       "    <tr>\n",
       "      <th>35546</th>\n",
       "      <td>35547</td>\n",
       "      <td>12</td>\n",
       "      <td>31</td>\n",
       "      <td>2002</td>\n",
       "      <td>10</td>\n",
       "      <td>RM</td>\n",
       "      <td>F</td>\n",
       "      <td>15.0</td>\n",
       "      <td>14.0</td>\n",
       "    </tr>\n",
       "    <tr>\n",
       "      <th>35547</th>\n",
       "      <td>35548</td>\n",
       "      <td>12</td>\n",
       "      <td>31</td>\n",
       "      <td>2002</td>\n",
       "      <td>7</td>\n",
       "      <td>DO</td>\n",
       "      <td>M</td>\n",
       "      <td>36.0</td>\n",
       "      <td>51.0</td>\n",
       "    </tr>\n",
       "    <tr>\n",
       "      <th>35548</th>\n",
       "      <td>35549</td>\n",
       "      <td>12</td>\n",
       "      <td>31</td>\n",
       "      <td>2002</td>\n",
       "      <td>5</td>\n",
       "      <td>NaN</td>\n",
       "      <td>NaN</td>\n",
       "      <td>NaN</td>\n",
       "      <td>NaN</td>\n",
       "    </tr>\n",
       "  </tbody>\n",
       "</table>\n",
       "<p>35549 rows × 9 columns</p>\n",
       "</div>"
      ],
      "text/plain": [
       "       record_id  month  day  year  site_id species_id  sex  hindfoot_length  \\\n",
       "0              1      7   16  1977        2         NL    M             32.0   \n",
       "1              2      7   16  1977        3         NL    M             33.0   \n",
       "2              3      7   16  1977        2         DM    F             37.0   \n",
       "3              4      7   16  1977        7         DM    M             36.0   \n",
       "4              5      7   16  1977        3         DM    M             35.0   \n",
       "...          ...    ...  ...   ...      ...        ...  ...              ...   \n",
       "35544      35545     12   31  2002       15         AH  NaN              NaN   \n",
       "35545      35546     12   31  2002       15         AH  NaN              NaN   \n",
       "35546      35547     12   31  2002       10         RM    F             15.0   \n",
       "35547      35548     12   31  2002        7         DO    M             36.0   \n",
       "35548      35549     12   31  2002        5        NaN  NaN              NaN   \n",
       "\n",
       "       weight  \n",
       "0         NaN  \n",
       "1         NaN  \n",
       "2         NaN  \n",
       "3         NaN  \n",
       "4         NaN  \n",
       "...       ...  \n",
       "35544     NaN  \n",
       "35545     NaN  \n",
       "35546    14.0  \n",
       "35547    51.0  \n",
       "35548     NaN  \n",
       "\n",
       "[35549 rows x 9 columns]"
      ]
     },
     "execution_count": 28,
     "metadata": {},
     "output_type": "execute_result"
    }
   ],
   "source": [
    "surveys = pd.read_csv('surveys.csv')\n",
    "surveys"
   ]
  },
  {
   "cell_type": "code",
   "execution_count": 1,
   "id": "f35bf802",
   "metadata": {},
   "outputs": [
    {
     "name": "stdout",
     "output_type": "stream",
     "text": [
      "Missing values per column:\n",
      "species_id          763\n",
      "sex                2511\n",
      "hindfoot_length    4111\n",
      "weight             3266\n",
      "dtype: int64\n"
     ]
    }
   ],
   "source": [
    "import pandas as pd\n",
    "\n",
    "surveys = pd.read_csv('surveys.csv')\n",
    "missing_counts = surveys.isnull().sum()\n",
    "print(\"Missing values per column:\")\n",
    "print(missing_counts[missing_counts > 0])"
   ]
  },
  {
   "cell_type": "code",
   "execution_count": 2,
   "id": "3987d734",
   "metadata": {},
   "outputs": [
    {
     "name": "stdout",
     "output_type": "stream",
     "text": [
      "\n",
      "Percentage of missing values:\n",
      "species_id          2.146333\n",
      "sex                 7.063490\n",
      "hindfoot_length    11.564320\n",
      "weight              9.187319\n",
      "dtype: float64\n"
     ]
    }
   ],
   "source": [
    "missing_percentage = (surveys.isnull().sum() / len(surveys)) * 100\n",
    "print(\"\\nPercentage of missing values:\")\n",
    "print(missing_percentage[missing_percentage > 0])"
   ]
  },
  {
   "cell_type": "code",
   "execution_count": 7,
   "id": "c7267abb",
   "metadata": {},
   "outputs": [
    {
     "name": "stdout",
     "output_type": "stream",
     "text": [
      "Original shape: (35549, 9)\n",
      "After dropping all NAs: (30676, 9)\n"
     ]
    }
   ],
   "source": [
    "surveys_cleaned = surveys.copy()\n",
    "print(f\"Original shape: {surveys_cleaned.shape}\")\n",
    "surveys_no_na = surveys_cleaned.dropna()\n",
    "print(f\"After dropping all NAs: {surveys_no_na.shape}\")\n"
   ]
  },
  {
   "cell_type": "code",
   "execution_count": 13,
   "id": "19ac2ed5",
   "metadata": {},
   "outputs": [
    {
     "name": "stdout",
     "output_type": "stream",
     "text": [
      "After dropping columns with NAs: (35549, 5)\n"
     ]
    }
   ],
   "source": [
    "surveys_drop_cols = surveys_cleaned.dropna(axis=1)\n",
    "print(f\"After dropping columns with NAs: {surveys_drop_cols.shape}\")"
   ]
  },
  {
   "cell_type": "code",
   "execution_count": 14,
   "id": "5ab05442",
   "metadata": {},
   "outputs": [
    {
     "name": "stdout",
     "output_type": "stream",
     "text": [
      "Filled missing hindfoot lengths with median: 32.0\n"
     ]
    },
    {
     "name": "stderr",
     "output_type": "stream",
     "text": [
      "C:\\Users\\KIRAN\\AppData\\Local\\Temp\\ipykernel_21064\\2849486668.py:3: FutureWarning: A value is trying to be set on a copy of a DataFrame or Series through chained assignment using an inplace method.\n",
      "The behavior will change in pandas 3.0. This inplace method will never work because the intermediate object on which we are setting values always behaves as a copy.\n",
      "\n",
      "For example, when doing 'df[col].method(value, inplace=True)', try using 'df.method({col: value}, inplace=True)' or df[col] = df[col].method(value) instead, to perform the operation inplace on the original object.\n",
      "\n",
      "\n",
      "  surveys_cleaned['hindfoot_length'].fillna(median_hindfoot_length, inplace=True)\n"
     ]
    }
   ],
   "source": [
    "if 'hindfoot_length' in surveys_cleaned.columns:\n",
    "    median_hindfoot_length = surveys_cleaned['hindfoot_length'].median()\n",
    "    surveys_cleaned['hindfoot_length'].fillna(median_hindfoot_length, inplace=True)\n",
    "    print(f\"Filled missing hindfoot lengths with median: {median_hindfoot_length:.1f}\")"
   ]
  },
  {
   "cell_type": "code",
   "execution_count": 16,
   "id": "3f38d4ea",
   "metadata": {},
   "outputs": [
    {
     "name": "stdout",
     "output_type": "stream",
     "text": [
      "Filled missing site IDs with mode: 12.0\n"
     ]
    },
    {
     "name": "stderr",
     "output_type": "stream",
     "text": [
      "C:\\Users\\KIRAN\\AppData\\Local\\Temp\\ipykernel_21064\\172256244.py:3: FutureWarning: A value is trying to be set on a copy of a DataFrame or Series through chained assignment using an inplace method.\n",
      "The behavior will change in pandas 3.0. This inplace method will never work because the intermediate object on which we are setting values always behaves as a copy.\n",
      "\n",
      "For example, when doing 'df[col].method(value, inplace=True)', try using 'df.method({col: value}, inplace=True)' or df[col] = df[col].method(value) instead, to perform the operation inplace on the original object.\n",
      "\n",
      "\n",
      "  surveys_cleaned['site_id'].fillna(mode_site_id, inplace=True)\n"
     ]
    }
   ],
   "source": [
    "if 'site_id' in surveys_cleaned.columns:\n",
    "    mode_site_id = surveys_cleaned['site_id'].mode()[0]\n",
    "    surveys_cleaned['site_id'].fillna(mode_site_id, inplace=True)\n",
    "    print(f\"Filled missing site IDs with mode: {mode_site_id:.1f}\")"
   ]
  },
  {
   "cell_type": "code",
   "execution_count": 17,
   "id": "34080843",
   "metadata": {},
   "outputs": [
    {
     "name": "stdout",
     "output_type": "stream",
     "text": [
      "\n",
      "Missing values after cleaning: record_id             0\n",
      "month                 0\n",
      "day                   0\n",
      "year                  0\n",
      "site_id               0\n",
      "species_id          763\n",
      "sex                2511\n",
      "hindfoot_length       0\n",
      "weight             3266\n",
      "dtype: int64\n"
     ]
    }
   ],
   "source": [
    "# Check missing values after cleaning\n",
    "print(f\"\\nMissing values after cleaning: {surveys_cleaned.isnull().sum()}\")"
   ]
  },
  {
   "cell_type": "code",
   "execution_count": 18,
   "id": "0fb53348",
   "metadata": {},
   "outputs": [
    {
     "name": "stdout",
     "output_type": "stream",
     "text": [
      "Number of males: 17348\n"
     ]
    }
   ],
   "source": [
    "males = surveys_cleaned[surveys_cleaned['sex'] == 'M']\n",
    "print(f\"Number of males: {males.shape[0]}\")"
   ]
  },
  {
   "cell_type": "code",
   "execution_count": 20,
   "id": "4159ca2a",
   "metadata": {},
   "outputs": [
    {
     "name": "stdout",
     "output_type": "stream",
     "text": [
      "First 6 males are:\n",
      "   record_id  month  day  year  site_id species_id sex  hindfoot_length  \\\n",
      "0          1      7   16  1977        2         NL   M             32.0   \n",
      "1          2      7   16  1977        3         NL   M             33.0   \n",
      "3          4      7   16  1977        7         DM   M             36.0   \n",
      "4          5      7   16  1977        3         DM   M             35.0   \n",
      "5          6      7   16  1977        1         PF   M             14.0   \n",
      "7          8      7   16  1977        1         DM   M             37.0   \n",
      "\n",
      "   weight  \n",
      "0     NaN  \n",
      "1     NaN  \n",
      "3     NaN  \n",
      "4     NaN  \n",
      "5     NaN  \n",
      "7     NaN  \n"
     ]
    }
   ],
   "source": [
    "print('First 6 males are:')\n",
    "print(males.head(6))"
   ]
  },
  {
   "cell_type": "code",
   "execution_count": 21,
   "id": "0e64390d",
   "metadata": {},
   "outputs": [
    {
     "name": "stdout",
     "output_type": "stream",
     "text": [
      "Number of selected species: 11033\n"
     ]
    }
   ],
   "source": [
    "species = surveys_cleaned[surveys_cleaned['species_id'].isin(['DM', 'AH'])]\n",
    "print(f\"Number of selected species: {len(species)}\")"
   ]
  },
  {
   "cell_type": "code",
   "execution_count": 23,
   "id": "34e46d3f",
   "metadata": {},
   "outputs": [
    {
     "name": "stdout",
     "output_type": "stream",
     "text": [
      "Mean hindfoot length: 29.6\n",
      "Median hindfoot length: 32.0\n",
      "Standard deviation of hindfoot length: 9.0\n"
     ]
    }
   ],
   "source": [
    "if 'hindfoot_length' in surveys_cleaned.columns:\n",
    "    print(f\"Mean hindfoot length: {surveys_cleaned['hindfoot_length'].mean():.1f}\")\n",
    "    print(f\"Median hindfoot length: {surveys_cleaned['hindfoot_length'].median():.1f}\")\n",
    "    print(f\"Standard deviation of hindfoot length: {surveys_cleaned['hindfoot_length'].std():.1f}\")"
   ]
  },
  {
   "cell_type": "code",
   "execution_count": 25,
   "id": "05a27ebc",
   "metadata": {},
   "outputs": [
    {
     "name": "stdout",
     "output_type": "stream",
     "text": [
      "Sex distribution:\n",
      "sex\n",
      "M    17348\n",
      "F    15690\n",
      "Name: count, dtype: int64\n"
     ]
    }
   ],
   "source": [
    "if 'sex' in surveys_cleaned.columns:\n",
    "    print(\"Sex distribution:\")\n",
    "    print(surveys_cleaned['sex'].value_counts())"
   ]
  },
  {
   "cell_type": "code",
   "execution_count": 26,
   "id": "93b94251",
   "metadata": {},
   "outputs": [
    {
     "name": "stdout",
     "output_type": "stream",
     "text": [
      "Average weight by sex:\n",
      "sex\n",
      "F    42.170555\n",
      "M    42.995379\n",
      "Name: weight, dtype: float64\n"
     ]
    }
   ],
   "source": [
    "if 'sex' in surveys_cleaned.columns and 'weight' in surveys_cleaned.columns:\n",
    "    weight_by_sex = surveys_cleaned.groupby('sex')['weight'].mean()\n",
    "    print(\"Average weight by sex:\")\n",
    "    print(weight_by_sex)"
   ]
  },
  {
   "cell_type": "code",
   "execution_count": 27,
   "id": "a19878f9",
   "metadata": {},
   "outputs": [
    {
     "name": "stdout",
     "output_type": "stream",
     "text": [
      "\n",
      "Hindfoot Length and Weight by Sex and Site ID:\n",
      "        hindfoot_length                                              \\\n",
      "site_id              1          2          3          4          5    \n",
      "sex                                                                   \n",
      "F             31.746462  30.259794  24.050392  33.196101  29.085389   \n",
      "M             34.201826  30.450175  24.105952  33.996117  29.808874   \n",
      "\n",
      "                                                                ...  \\\n",
      "site_id         6          7          8          9          10  ...   \n",
      "sex                                                             ...   \n",
      "F        27.260516  20.582090  32.179762  34.935522  19.304965  ...   \n",
      "M        27.695026  20.798046  33.681587  34.071713  20.267606  ...   \n",
      "\n",
      "            weight                                                         \\\n",
      "site_id         15         16         17         18         19         20   \n",
      "sex                                                                         \n",
      "F        26.670236  25.810427  48.176201  36.963514  21.978599  52.624406   \n",
      "M        27.523691  23.811321  47.558853  43.546952  20.306878  44.197279   \n",
      "\n",
      "                                                     \n",
      "site_id         21         22         23         24  \n",
      "sex                                                  \n",
      "F        25.974832  53.647059  20.564417  47.914405  \n",
      "M        22.772622  54.572531  18.941463  39.321503  \n",
      "\n",
      "[2 rows x 48 columns]\n"
     ]
    }
   ],
   "source": [
    "# Pivot Table\n",
    "if 'hindfoot_length' in surveys_cleaned.columns and 'weight' in surveys_cleaned.columns:\n",
    "    pivot_multiple = pd.pivot_table(\n",
    "        surveys_cleaned,\n",
    "        values=['hindfoot_length', 'weight'],\n",
    "        index='sex',\n",
    "        columns='site_id',\n",
    "        aggfunc='mean',\n",
    "        fill_value=0\n",
    "    )\n",
    "    print(\"\\nHindfoot Length and Weight by Sex and Site ID:\")\n",
    "    print(pivot_multiple)"
   ]
  },
  {
   "cell_type": "code",
   "execution_count": 28,
   "id": "de0dd143",
   "metadata": {},
   "outputs": [
    {
     "name": "stdout",
     "output_type": "stream",
     "text": [
      "Shape after setting hindfoot_length as index: (35549, 8)\n",
      "First few rows with hindfoot_length as index:\n",
      "                 record_id  month  day  year  site_id species_id sex  weight\n",
      "hindfoot_length                                                             \n",
      "32.0                     1      7   16  1977        2         NL   M     NaN\n",
      "33.0                     2      7   16  1977        3         NL   M     NaN\n",
      "37.0                     3      7   16  1977        2         DM   F     NaN\n",
      "\n",
      "Shape after resetting index: (35549, 9)\n"
     ]
    }
   ],
   "source": [
    "# Set index\n",
    "if 'hindfoot_length' in surveys_cleaned.columns:\n",
    "    df_with_index = surveys_cleaned.copy()\n",
    "    df_with_index = df_with_index.set_index('hindfoot_length')\n",
    "    print(f\"Shape after setting hindfoot_length as index: {df_with_index.shape}\")\n",
    "    print(\"First few rows with hindfoot_length as index:\")\n",
    "    print(df_with_index.head(3))\n",
    "\n",
    "    # Reset index\n",
    "    df_reset = df_with_index.reset_index()\n",
    "    print(f\"\\nShape after resetting index: {df_reset.shape}\")"
   ]
  },
  {
   "cell_type": "code",
   "execution_count": 29,
   "id": "aa3ae146",
   "metadata": {},
   "outputs": [
    {
     "name": "stdout",
     "output_type": "stream",
     "text": [
      "Age group distribution:\n",
      "Age_group\n",
      "90s Kid      30158\n",
      "2000s Kid     5391\n",
      "Name: count, dtype: int64\n"
     ]
    }
   ],
   "source": [
    "# Apply function to create new columns\n",
    "if 'year' in surveys_cleaned.columns:\n",
    "    surveys_cleaned['Age_group'] = surveys_cleaned['year'].apply(\n",
    "        lambda x: '90s Kid' if x < 2000 else '2000s Kid'\n",
    "    )\n",
    "\n",
    "    print(\"Age group distribution:\")\n",
    "    print(surveys_cleaned['Age_group'].value_counts())"
   ]
  },
  {
   "cell_type": "code",
   "execution_count": 37,
   "id": "916f1509",
   "metadata": {},
   "outputs": [
    {
     "name": "stdout",
     "output_type": "stream",
     "text": [
      "\n",
      "10.3 Working with Dates:\n",
      "------------------------------\n",
      "Sample date data:\n",
      "        date     value\n",
      "0 2020-01-01  0.931361\n",
      "1 2020-01-02 -0.099340\n",
      "2 2020-01-03 -1.961821\n",
      "3 2020-01-04  1.264508\n",
      "4 2020-01-05  0.787092\n",
      "\n",
      "Date with extracted components:\n",
      "        date  year  month  dayofweek weekday_name\n",
      "0 2020-01-01  2020      1          2    Wednesday\n",
      "1 2020-01-02  2020      1          3     Thursday\n",
      "2 2020-01-03  2020      1          4       Friday\n",
      "3 2020-01-04  2020      1          5     Saturday\n",
      "4 2020-01-05  2020      1          6       Sunday\n"
     ]
    }
   ],
   "source": [
    "import pandas as pd\n",
    "import numpy as np\n",
    "\n",
    "print(\"\\n10.3 Working with Dates:\")\n",
    "print(\"-\" * 30)\n",
    "\n",
    "# Create sample date data\n",
    "date_range = pd.date_range(start='2020-01-01', end='2020-01-10', freq='D')\n",
    "date_df = pd.DataFrame({\n",
    "    'date': date_range,\n",
    "    'value': np.random.randn(len(date_range))\n",
    "})\n",
    "\n",
    "print(\"Sample date data:\")\n",
    "print(date_df.head())\n",
    "\n",
    "# Extract date components\n",
    "date_df['year'] = date_df['date'].dt.year\n",
    "date_df['month'] = date_df['date'].dt.month\n",
    "date_df['dayofweek'] = date_df['date'].dt.dayofweek\n",
    "date_df['weekday_name'] = date_df['date'].dt.day_name()\n",
    "\n",
    "print(\"\\nDate with extracted components:\")\n",
    "print(date_df[['date', 'year', 'month', 'dayofweek', 'weekday_name']].head())"
   ]
  },
  {
   "cell_type": "code",
   "execution_count": 30,
   "id": "e32da392",
   "metadata": {},
   "outputs": [
    {
     "name": "stdout",
     "output_type": "stream",
     "text": [
      "\n",
      "10.4 Data Validation and Quality Checks:\n",
      "------------------------------\n",
      "Number of duplicate rows: 0\n",
      "\n",
      "Dataset memory usage: 7346.83 KB\n"
     ]
    }
   ],
   "source": [
    "print(\"\\n10.4 Data Validation and Quality Checks:\")\n",
    "print(\"-\" * 30)\n",
    "\n",
    "# Check for duplicates\n",
    "duplicates = surveys_cleaned.duplicated().sum()\n",
    "print(f\"Number of duplicate rows: {duplicates}\")\n",
    "\n",
    "# Memory usage\n",
    "print(f\"\\nDataset memory usage: {surveys_cleaned.memory_usage(deep=True).sum() / 1024:.2f} KB\")"
   ]
  }
 ],
 "metadata": {
  "kernelspec": {
   "display_name": "Python 3",
   "language": "python",
   "name": "python3"
  },
  "language_info": {
   "codemirror_mode": {
    "name": "ipython",
    "version": 3
   },
   "file_extension": ".py",
   "mimetype": "text/x-python",
   "name": "python",
   "nbconvert_exporter": "python",
   "pygments_lexer": "ipython3",
   "version": "3.12.7"
  }
 },
 "nbformat": 4,
 "nbformat_minor": 5
}
